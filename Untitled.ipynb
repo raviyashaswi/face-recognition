{
 "cells": [
  {
   "cell_type": "code",
   "execution_count": 1,
   "id": "c026cd85",
   "metadata": {},
   "outputs": [],
   "source": [
    "import numpy as np\n",
    "import cv2\n",
    "import random\n",
    "import os\n",
    "import matplotlib.pyplot as plt"
   ]
  },
  {
   "cell_type": "code",
   "execution_count": 2,
   "id": "e1cd0d08",
   "metadata": {},
   "outputs": [],
   "source": [
    "import tensorflow as tf\n",
    "from tensorflow.keras.models import Model\n",
    "from tensorflow.keras.layers import Layer,Conv2D,Flatten,Dense,MaxPooling2D,Input"
   ]
  },
  {
   "cell_type": "code",
   "execution_count": 3,
   "id": "4882b262",
   "metadata": {},
   "outputs": [],
   "source": [
    "gpus = tf.config.experimental.list_physical_devices('GPU')\n",
    "for gpu in gpus: \n",
    "    tf.config.experimental.set_memory_growth(gpu, True)"
   ]
  },
  {
   "cell_type": "code",
   "execution_count": 4,
   "id": "3c70136e",
   "metadata": {},
   "outputs": [],
   "source": [
    "POS_PATH = os.path.join(\"data\",\"positive\")\n",
    "NEG_PATH = os.path.join(\"data\",\"negative\")\n",
    "ANC_PATH = os.path.join(\"data\",\"anchor\")"
   ]
  },
  {
   "cell_type": "code",
   "execution_count": 5,
   "id": "a617a4f8",
   "metadata": {},
   "outputs": [],
   "source": [
    "os.makedirs(POS_PATH)\n",
    "os.makedirs(NEG_PATH)\n",
    "os.makedirs(ANC_PATH)"
   ]
  },
  {
   "cell_type": "code",
   "execution_count": 6,
   "id": "e084259e",
   "metadata": {},
   "outputs": [],
   "source": [
    "!tar -xf lfw.tgz"
   ]
  },
  {
   "cell_type": "code",
   "execution_count": 7,
   "id": "8bdb161b",
   "metadata": {},
   "outputs": [],
   "source": [
    "for directory in os.listdir(\"lfw\"):\n",
    "    for file in os.listdir(os.path.join(\"lfw\",directory)):\n",
    "        EX_PATH = os.path.join(\"lfw\",directory,file)\n",
    "        NEW_PATH = os.path.join(NEG_PATH,file)\n",
    "        os.replace(EX_PATH,NEW_PATH)\n",
    "        "
   ]
  },
  {
   "cell_type": "code",
   "execution_count": 8,
   "id": "560b0342",
   "metadata": {},
   "outputs": [],
   "source": [
    "for file in os.listdir(POS_PATH):\n",
    "    print(file)"
   ]
  },
  {
   "cell_type": "code",
   "execution_count": 9,
   "id": "a6f676cc",
   "metadata": {},
   "outputs": [],
   "source": [
    "import uuid"
   ]
  },
  {
   "cell_type": "code",
   "execution_count": 10,
   "id": "511fee46",
   "metadata": {},
   "outputs": [],
   "source": [
    "# Import required libraries\n",
    "import cv2 as cv\n",
    "import os\n",
    "\n",
    "i = 1\n",
    "    \n",
    "\n",
    "cap = cv.VideoCapture(2) #cap for \"Video Capture Object\"\n",
    "\n",
    "    \n",
    "\n",
    "if not cap.isOpened():\n",
    "    print(\"Error opening Video File.\")\n",
    "try:\n",
    "    while True:\n",
    "        # Capture frame-by-frame\n",
    "        ret, frame = cap.read()\n",
    "        cv.imshow('try-except block is important bruh',frame)\n",
    "\n",
    "        if cv.waitKey(1) & 0xFF == ord('a'):\n",
    "            img_name = os.path.join(ANC_PATH,'{}.jpg'.format(uuid.uuid1()))\n",
    "            cv2.imwrite(img_name,frame)\n",
    "            \n",
    "        if cv.waitKey(1) & 0xFF == ord('p'):\n",
    "            img_name = os.path.join(POS_PATH,'{}.jpg'.format(uuid.uuid1()))\n",
    "            cv2.imwrite(img_name,frame)\n",
    "            \n",
    "        if cv.waitKey(1) & 0xFF == ord('q'):\n",
    "            break\n",
    "\n",
    "\n",
    "        # if frame is read correctly, ret is True\n",
    "        if not ret:\n",
    "            print(\"Can't retrieve frame - stream may have ended. Exiting..\")\n",
    "            break\n",
    "except:\n",
    "    print(\"Video has ended.\")\n",
    "\n",
    "\n",
    "# When everything done, release the capture\n",
    "cap.release()\n",
    "cv.destroyAllWindows()"
   ]
  },
  {
   "cell_type": "code",
   "execution_count": 11,
   "id": "6040a858",
   "metadata": {},
   "outputs": [],
   "source": [
    "#frame.shape"
   ]
  },
  {
   "cell_type": "code",
   "execution_count": 12,
   "id": "9983b618",
   "metadata": {},
   "outputs": [],
   "source": [
    "anchor = tf.data.Dataset.list_files(ANC_PATH+'/*.jpg').take(10)\n",
    "positive = tf.data.Dataset.list_files(POS_PATH+'/*.jpg').take(10)\n",
    "negative = tf.data.Dataset.list_files(NEG_PATH+'/*.jpg').take(10)"
   ]
  },
  {
   "cell_type": "code",
   "execution_count": 13,
   "id": "7bb2947a",
   "metadata": {},
   "outputs": [],
   "source": [
    "print(positive)"
   ]
  },
  {
   "cell_type": "code",
   "execution_count": 14,
   "id": "cd2b145b",
   "metadata": {},
   "outputs": [],
   "source": [
    "print(\"j\")"
   ]
  },
  {
   "cell_type": "code",
   "execution_count": 15,
   "id": "068260b5",
   "metadata": {},
   "outputs": [],
   "source": [
    "dir_test = anchor.as_numpy_iterator()\n",
    "dir_test.next()"
   ]
  },
  {
   "cell_type": "code",
   "execution_count": 16,
   "id": "146ffc3d",
   "metadata": {},
   "outputs": [],
   "source": [
    "print(dir_test)"
   ]
  },
  {
   "cell_type": "code",
   "execution_count": 17,
   "id": "803ec4d1",
   "metadata": {},
   "outputs": [],
   "source": [
    "def preprocess(file_path):\n",
    "    byte_img = tf.io.read_file(file_path)\n",
    "    img = tf.io.decode_jpeg(byte_img)\n",
    "    img = tf.image.resize(img,(250,250))\n",
    "    img = img/255.0\n",
    "    return img"
   ]
  },
  {
   "cell_type": "code",
   "execution_count": 18,
   "id": "ca7cd612",
   "metadata": {},
   "outputs": [],
   "source": [
    "positives = tf.data.Dataset.zip((anchor, positive, tf.data.Dataset.from_tensor_slices(tf.ones(len(anchor)))))\n",
    "negatives = tf.data.Dataset.zip((anchor, negative, tf.data.Dataset.from_tensor_slices(tf.zeros(len(anchor)))))\n",
    "data = positives.concatenate(negatives)\n"
   ]
  },
  {
   "cell_type": "code",
   "execution_count": 19,
   "id": "89220234",
   "metadata": {},
   "outputs": [],
   "source": [
    "\n",
    "\n",
    "samples = data.as_numpy_iterator()\n",
    "\n"
   ]
  },
  {
   "cell_type": "code",
   "execution_count": 20,
   "id": "40bb9b7a",
   "metadata": {},
   "outputs": [],
   "source": [
    "example = samples.next()"
   ]
  },
  {
   "cell_type": "code",
   "execution_count": 21,
   "id": "6b930881",
   "metadata": {},
   "outputs": [],
   "source": [
    "example"
   ]
  },
  {
   "cell_type": "code",
   "execution_count": 22,
   "id": "594a055f",
   "metadata": {},
   "outputs": [],
   "source": [
    "def preprocess_twin(input_img, validation_img, label):\n",
    "    return(preprocess(input_img), preprocess(validation_img), label)"
   ]
  },
  {
   "cell_type": "code",
   "execution_count": null,
   "id": "cf5c6d15",
   "metadata": {},
   "outputs": [],
   "source": [
    "res = preprocess_twin(*example)\n"
   ]
  },
  {
   "cell_type": "code",
   "execution_count": null,
   "id": "973700df",
   "metadata": {},
   "outputs": [],
   "source": [
    "plt.imshow(res[1])"
   ]
  },
  {
   "cell_type": "code",
   "execution_count": null,
   "id": "f8123ee8",
   "metadata": {},
   "outputs": [],
   "source": [
    "# Build dataloader pipeline\n",
    "data = data.map(preprocess_twin)\n",
    "data = data.cache()\n",
    "data = data.shuffle(buffer_size=1024)"
   ]
  },
  {
   "cell_type": "code",
   "execution_count": null,
   "id": "b4a5b6a6",
   "metadata": {},
   "outputs": [],
   "source": [
    "train_data = data.take(round(len(data)*.7))\n",
    "train_data = train_data.batch(16)\n",
    "train_data = train_data.prefetch(8)"
   ]
  },
  {
   "cell_type": "code",
   "execution_count": null,
   "id": "8e5a44e0",
   "metadata": {},
   "outputs": [],
   "source": [
    "test_data = data.skip(round(len(data)*.7))\n",
    "test_data = test_data.take(round(len(data)*.3))\n",
    "test_data = test_data.batch(16)\n",
    "test_data = test_data.prefetch(8)"
   ]
  },
  {
   "cell_type": "code",
   "execution_count": null,
   "id": "d8403623",
   "metadata": {},
   "outputs": [],
   "source": [
    "data\n"
   ]
  },
  {
   "cell_type": "code",
   "execution_count": null,
   "id": "0f8593b0",
   "metadata": {},
   "outputs": [],
   "source": [
    "sample = data.as_numpy_iterator()"
   ]
  },
  {
   "cell_type": "code",
   "execution_count": null,
   "id": "566d2e4e",
   "metadata": {},
   "outputs": [],
   "source": [
    "sample.next()"
   ]
  },
  {
   "cell_type": "code",
   "execution_count": null,
   "id": "65ea2dd9",
   "metadata": {},
   "outputs": [],
   "source": [
    "plt.imshow(sample.next()[1])"
   ]
  },
  {
   "cell_type": "code",
   "execution_count": null,
   "id": "da0b0da6",
   "metadata": {},
   "outputs": [],
   "source": [
    "train_data = data.take(15)\n",
    "train_data = train_data.batch(4)\n",
    "train_data = train_data.prefetch(2)"
   ]
  },
  {
   "cell_type": "code",
   "execution_count": null,
   "id": "e7d8fc0f",
   "metadata": {},
   "outputs": [],
   "source": [
    "len(train_data)"
   ]
  },
  {
   "cell_type": "code",
   "execution_count": null,
   "id": "49a0e925",
   "metadata": {},
   "outputs": [],
   "source": [
    "test_data = data.skip(15)\n",
    "test_data = test_data.take(5)\n",
    "test_data = test_data.batch(4)\n",
    "test_data = test_data.prefetch(2)\n",
    "\n"
   ]
  },
  {
   "cell_type": "code",
   "execution_count": null,
   "id": "b9bedb34",
   "metadata": {},
   "outputs": [],
   "source": [
    "len(data)"
   ]
  },
  {
   "cell_type": "code",
   "execution_count": null,
   "id": "bc31009f",
   "metadata": {},
   "outputs": [],
   "source": [
    "inp = Input(shape = (250,250,3),name = \"input_image\")"
   ]
  },
  {
   "cell_type": "code",
   "execution_count": null,
   "id": "b743ac1e",
   "metadata": {},
   "outputs": [],
   "source": [
    "c1 = Conv2D(16,(3,3),activation = \"relu\")(inp)\n",
    "m1 = MaxPooling2D(2,2)(c1)\n",
    "c2 = Conv2D(32,(3,3),activation = \"relu\")(m1)\n",
    "m2 = MaxPooling2D(2,2)(c2)\n",
    "c3 = Conv2D(64,(3,3),activation = \"relu\")(m2)\n",
    "m3 = MaxPooling2D(2,2)(c3)\n",
    "c4 = Conv2D(64,(3,3),activation = \"relu\")(m3)\n",
    "m4 = MaxPooling2D(2,2)(c4)\n",
    "c5 = Conv2D(64,(3,3),activation = \"relu\")(m4)\n",
    "m5 = MaxPooling2D(2,2)(c5)\n",
    "c6 = Conv2D(64,(3,3),activation = \"relu\")(m5)\n",
    "f1 = Flatten()(c6)\n",
    "d1 = Dense(1024,activation = \"sigmoid\")(f1)"
   ]
  },
  {
   "cell_type": "code",
   "execution_count": null,
   "id": "6354298c",
   "metadata": {},
   "outputs": [],
   "source": [
    "mod = Model(inputs = [inp],outputs = [d1] , name ='embedding')\n",
    "mod.summary()"
   ]
  },
  {
   "cell_type": "code",
   "execution_count": null,
   "id": "bbaca830",
   "metadata": {},
   "outputs": [],
   "source": [
    "def make_embedding():\n",
    "    inp = Input(shape = (250,250,3),name = \"input_image\")\n",
    "    c1 = Conv2D(16,(3,3),activation = \"relu\")(inp)\n",
    "    m1 = MaxPooling2D(2,2)(c1)\n",
    "    c2 = Conv2D(32,(3,3),activation = \"relu\")(m1)\n",
    "    m2 = MaxPooling2D(2,2)(c2)\n",
    "    c3 = Conv2D(64,(3,3),activation = \"relu\")(m2)\n",
    "    m3 = MaxPooling2D(2,2)(c3)\n",
    "    c4 = Conv2D(64,(3,3),activation = \"relu\")(m3)\n",
    "    m4 = MaxPooling2D(2,2)(c4)\n",
    "    c5 = Conv2D(64,(3,3),activation = \"relu\")(m4)\n",
    "    m5 = MaxPooling2D(2,2)(c5)\n",
    "    c6 = Conv2D(64,(3,3),activation = \"relu\")(m5)\n",
    "    f1 = Flatten()(c6)\n",
    "    d1 = Dense(1024,activation = \"sigmoid\")(f1)\n",
    "    \n",
    "    return Model(inputs = [inp],outputs = [d1],name = 'embedding')\n"
   ]
  },
  {
   "cell_type": "code",
   "execution_count": null,
   "id": "b0cff4c1",
   "metadata": {},
   "outputs": [],
   "source": [
    "embedding = make_embedding()\n",
    "embedding.summary()"
   ]
  },
  {
   "cell_type": "code",
   "execution_count": null,
   "id": "20d432e6",
   "metadata": {},
   "outputs": [],
   "source": [
    "\n",
    "\n",
    "# Siamese L1 Distance class\n",
    "class L1Dist(Layer):\n",
    "    \n",
    "    # Init method - inheritance\n",
    "    def __init__(self, **kwargs):\n",
    "        super().__init__()\n",
    "       \n",
    "    # Magic happens here - similarity calculation\n",
    "    def call(self, input_embedding, validation_embedding):\n",
    "        return tf.math.abs(input_embedding - validation_embedding)\n",
    "\n"
   ]
  },
  {
   "cell_type": "code",
   "execution_count": null,
   "id": "3befecef",
   "metadata": {},
   "outputs": [],
   "source": [
    "l1 = L1Dist()"
   ]
  },
  {
   "cell_type": "code",
   "execution_count": null,
   "id": "0de257e2",
   "metadata": {},
   "outputs": [],
   "source": [
    "#l1(anchor_embedding,validation_embedding)"
   ]
  },
  {
   "cell_type": "code",
   "execution_count": null,
   "id": "0db6f3ec",
   "metadata": {},
   "outputs": [],
   "source": [
    "def make_siamese_model():\n",
    "    input_image = Input(name = \"input_img\",shape=(250,250,3))\n",
    "    validation_image = Input(name = \"validation_img\",shape=(250,250,3))\n",
    "    siamese_layer = L1Dist()\n",
    "    siamese_layer._name = 'distance'\n",
    "    distances = siamese_layer(embedding(input_image), embedding(validation_image))\n",
    "    \n",
    "    # Classification layer \n",
    "    classifier = Dense(1, activation='sigmoid')(distances)\n",
    "    \n",
    "    return Model(inputs=[input_image, validation_image], outputs=classifier, name='SiameseNetwork')"
   ]
  },
  {
   "cell_type": "code",
   "execution_count": null,
   "id": "91fbdede",
   "metadata": {},
   "outputs": [],
   "source": [
    "siamese_model = make_siamese_model()\n",
    "siamese_model.summary()"
   ]
  },
  {
   "cell_type": "code",
   "execution_count": null,
   "id": "48680e7e",
   "metadata": {},
   "outputs": [],
   "source": [
    "bin_loss = tf.losses.BinaryCrossentropy()"
   ]
  },
  {
   "cell_type": "code",
   "execution_count": null,
   "id": "e943522e",
   "metadata": {},
   "outputs": [],
   "source": [
    "opt = tf.keras.optimizers.Adam(1e-4)"
   ]
  },
  {
   "cell_type": "code",
   "execution_count": null,
   "id": "4d83dc44",
   "metadata": {},
   "outputs": [],
   "source": [
    "checkpoint_dir = './training_checkpoints'\n",
    "checkpoint_prefix = os.path.join(checkpoint_dir, 'ckpt')\n",
    "checkpoint = tf.train.Checkpoint(opt=opt, siamese_model=siamese_model)\n"
   ]
  },
  {
   "cell_type": "code",
   "execution_count": null,
   "id": "4ae331ac",
   "metadata": {},
   "outputs": [],
   "source": [
    "@tf.function\n",
    "def train_step(batch):\n",
    "    \n",
    "    # Record all of our operations \n",
    "    with tf.GradientTape() as tape:     \n",
    "        # Get anchor and positive/negative image\n",
    "        X = batch[:2]\n",
    "        # Get label\n",
    "        y = batch[2]\n",
    "        \n",
    "        # Forward pass\n",
    "        yhat = siamese_model(X, training=True)\n",
    "        # Calculate loss\n",
    "        loss = bin_loss(y, yhat)\n",
    "    print(loss)\n",
    "        \n",
    "    # Calculate gradients\n",
    "    grad = tape.gradient(loss, siamese_model.trainable_variables)\n",
    "    \n",
    "    # Calculate updated weights and apply to siamese model\n",
    "    opt.apply_gradients(zip(grad, siamese_model.trainable_variables))\n",
    "        \n",
    "    # Return loss\n",
    "    return loss"
   ]
  },
  {
   "cell_type": "code",
   "execution_count": null,
   "id": "395c1f22",
   "metadata": {},
   "outputs": [],
   "source": [
    "from tensorflow.keras.metrics import Precision, Recall"
   ]
  },
  {
   "cell_type": "code",
   "execution_count": null,
   "id": "e39ec5cd",
   "metadata": {},
   "outputs": [],
   "source": [
    "def train(data, EPOCHS):\n",
    "    # Loop through epochs\n",
    "    for epoch in range(1, EPOCHS+1):\n",
    "        print('\\n Epoch {}/{}'.format(epoch, EPOCHS))\n",
    "        progbar = tf.keras.utils.Progbar(len(data))\n",
    "        \n",
    "        # Creating a metric object \n",
    "        r = Recall()\n",
    "        p = Precision()\n",
    "        \n",
    "        # Loop through each batch\n",
    "        for idx, batch in enumerate(data):\n",
    "            # Run train step here\n",
    "            loss = train_step(batch)\n",
    "            yhat = siamese_model.predict(batch[:2])\n",
    "            r.update_state(batch[2], yhat)\n",
    "            p.update_state(batch[2], yhat) \n",
    "            progbar.update(idx+1)\n",
    "        print(loss.numpy(), r.result().numpy(), p.result().numpy())\n",
    "        \n",
    "        # Save checkpoints\n",
    "        if epoch % 10 == 0: \n",
    "            checkpoint.save(file_prefix=checkpoint_prefix)"
   ]
  },
  {
   "cell_type": "code",
   "execution_count": null,
   "id": "61bb0891",
   "metadata": {},
   "outputs": [],
   "source": [
    "EPOCHS = 50\n",
    "train(train_data, EPOCHS)"
   ]
  },
  {
   "cell_type": "code",
   "execution_count": null,
   "id": "36d106af",
   "metadata": {},
   "outputs": [],
   "source": [
    "from tensorflow.keras.metrics import Precision,Recall"
   ]
  },
  {
   "cell_type": "code",
   "execution_count": null,
   "id": "a9b1edd7",
   "metadata": {},
   "outputs": [],
   "source": [
    "test_input,test_val,y_true = test_data.as_numpy_iterator().next()"
   ]
  },
  {
   "cell_type": "code",
   "execution_count": null,
   "id": "def6ae90",
   "metadata": {},
   "outputs": [],
   "source": [
    "y_hat = siamese_model.predict([test_input,test_val])\n",
    "y_hat"
   ]
  },
  {
   "cell_type": "code",
   "execution_count": null,
   "id": "74f19a14",
   "metadata": {},
   "outputs": [],
   "source": [
    "[1 if prediction >0.5 else 0 for prediction in y_hat]"
   ]
  },
  {
   "cell_type": "code",
   "execution_count": null,
   "id": "65dcc3a2",
   "metadata": {},
   "outputs": [],
   "source": [
    "y_true"
   ]
  },
  {
   "cell_type": "code",
   "execution_count": null,
   "id": "55a0f68c",
   "metadata": {},
   "outputs": [],
   "source": [
    "m = Recall()\n",
    "m.update_state(y_true,y_hat)"
   ]
  },
  {
   "cell_type": "code",
   "execution_count": null,
   "id": "3f5e2516",
   "metadata": {},
   "outputs": [],
   "source": [
    "m.result().numpy()"
   ]
  },
  {
   "cell_type": "code",
   "execution_count": null,
   "id": "2555b13b",
   "metadata": {},
   "outputs": [],
   "source": [
    "plt.figure(figsize=(18,8))\n",
    "plt.subplot(1,2,1)\n",
    "plt.imshow(test_input[3])\n",
    "plt.subplot(1,2,2)\n",
    "plt.imshow(test_val[3])\n",
    "plt.imshow"
   ]
  },
  {
   "cell_type": "code",
   "execution_count": null,
   "id": "ca0b09c2",
   "metadata": {},
   "outputs": [],
   "source": [
    "siamese_model.save(\"siamesemodel1.h5\")"
   ]
  },
  {
   "cell_type": "code",
   "execution_count": null,
   "id": "a2b850d1",
   "metadata": {},
   "outputs": [],
   "source": [
    "model = tf.keras.models.load_model(\"siamesemodel.h5\",custom_objects={'L1Dist':L1Dist, 'BinaryCrossentropy':tf.losses.BinaryCrossentropy})"
   ]
  },
  {
   "cell_type": "code",
   "execution_count": null,
   "id": "337ea0a5",
   "metadata": {},
   "outputs": [],
   "source": [
    "siamese_model.predict([test_input, test_val])"
   ]
  },
  {
   "cell_type": "code",
   "execution_count": null,
   "id": "b2b613bf",
   "metadata": {},
   "outputs": [],
   "source": []
  }
 ],
 "metadata": {
  "kernelspec": {
   "display_name": "Python 3 (ipykernel)",
   "language": "python",
   "name": "python3"
  },
  "language_info": {
   "codemirror_mode": {
    "name": "ipython",
    "version": 3
   },
   "file_extension": ".py",
   "mimetype": "text/x-python",
   "name": "python",
   "nbconvert_exporter": "python",
   "pygments_lexer": "ipython3",
   "version": "3.9.13"
  }
 },
 "nbformat": 4,
 "nbformat_minor": 5
}
